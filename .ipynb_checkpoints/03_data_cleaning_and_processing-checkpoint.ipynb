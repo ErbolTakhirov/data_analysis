{
 "cells": [
  {
   "cell_type": "code",
   "execution_count": 1,
   "id": "be827b20-a99d-4a2b-a9a6-2eebf3e7897e",
   "metadata": {},
   "outputs": [],
   "source": [
    "import pandas as pd\n",
    "path = pd.read_csv('titanic/train.csv')"
   ]
  },
  {
   "cell_type": "code",
   "execution_count": 2,
   "id": "50c85a55-e5a2-4d4a-b287-4e37aa4d07d4",
   "metadata": {},
   "outputs": [
    {
     "data": {
      "text/plain": [
       "PassengerId      0\n",
       "Survived         0\n",
       "Pclass           0\n",
       "Name             0\n",
       "Sex              0\n",
       "Age            177\n",
       "SibSp            0\n",
       "Parch            0\n",
       "Ticket           0\n",
       "Fare             0\n",
       "Cabin          687\n",
       "Embarked         2\n",
       "dtype: int64"
      ]
     },
     "execution_count": 2,
     "metadata": {},
     "output_type": "execute_result"
    }
   ],
   "source": [
    "path.isnull().sum()"
   ]
  },
  {
   "cell_type": "code",
   "execution_count": 3,
   "id": "615492aa-abf1-456a-b3cd-0315b33c361b",
   "metadata": {},
   "outputs": [
    {
     "data": {
      "text/plain": [
       "PassengerId    0.000000\n",
       "Survived       0.000000\n",
       "Pclass         0.000000\n",
       "Name           0.000000\n",
       "Sex            0.000000\n",
       "Age            0.198653\n",
       "SibSp          0.000000\n",
       "Parch          0.000000\n",
       "Ticket         0.000000\n",
       "Fare           0.000000\n",
       "Cabin          0.771044\n",
       "Embarked       0.002245\n",
       "dtype: float64"
      ]
     },
     "execution_count": 3,
     "metadata": {},
     "output_type": "execute_result"
    }
   ],
   "source": [
    "path.isnull().mean()"
   ]
  },
  {
   "cell_type": "code",
   "execution_count": 4,
   "id": "53767247-c372-4594-bb53-6ecb99494d55",
   "metadata": {},
   "outputs": [],
   "source": [
    "path_age_clean = path.dropna(subset=['Age'])"
   ]
  },
  {
   "cell_type": "code",
   "execution_count": 15,
   "id": "f094b54e-7b47-4307-bfd2-809a8a44352b",
   "metadata": {},
   "outputs": [
    {
     "data": {
      "text/plain": [
       "891"
      ]
     },
     "execution_count": 15,
     "metadata": {},
     "output_type": "execute_result"
    }
   ],
   "source": [
    "# Заполнение пропущенных возрастов средним\n",
    "path['Age'] = path['Age'].fillna(path['Age'].mean())\n",
    "len(path['Age'])"
   ]
  },
  {
   "cell_type": "code",
   "execution_count": 14,
   "id": "f8acfe26-57b7-4e0e-af86-daa9cb38b2f2",
   "metadata": {},
   "outputs": [],
   "source": [
    "# Заполнения пропущенных возрастов медианой\n",
    "path[\"Age\"] = path['Age'].fillna(path['Age'].median())\n"
   ]
  },
  {
   "cell_type": "code",
   "execution_count": 13,
   "id": "cacd4e0a-b028-43a4-9223-cb7330344293",
   "metadata": {},
   "outputs": [],
   "source": [
    "# Заполнение Embarked самым частым значением\n",
    "path['Embarked'] = path['Embarked'].fillna(path['Embarked'].mode()[0])"
   ]
  },
  {
   "cell_type": "code",
   "execution_count": 16,
   "id": "10df1628-34cb-41f6-9468-5c9de3e90696",
   "metadata": {},
   "outputs": [],
   "source": [
    "# Замена 'male' -> 0, 'female'-> 1\n",
    "path['Sex'] = path[\"Sex\"].replace({'male': 0, 'female': 1})"
   ]
  },
  {
   "cell_type": "code",
   "execution_count": 17,
   "id": "a50001bf-1152-477e-8284-f5f664b70d62",
   "metadata": {},
   "outputs": [],
   "source": [
    "path['Sex'] = path['Sex'].map({'male': 0, 'female': 1})"
   ]
  },
  {
   "cell_type": "code",
   "execution_count": 18,
   "id": "3058ea26-e7fb-4d3f-96a5-92104cad9ecc",
   "metadata": {},
   "outputs": [],
   "source": [
    "# удаление колонки Cabin, так как она почти пустая\n",
    "path= path.drop(columns=['Cabin'])"
   ]
  },
  {
   "cell_type": "code",
   "execution_count": 20,
   "id": "09cb127a-26b9-4006-bbb4-5a9ba508e7be",
   "metadata": {},
   "outputs": [
    {
     "data": {
      "text/plain": [
       "PassengerId      0\n",
       "Survived         0\n",
       "Pclass           0\n",
       "Name             0\n",
       "Sex            891\n",
       "Age              0\n",
       "SibSp            0\n",
       "Parch            0\n",
       "Ticket           0\n",
       "Fare             0\n",
       "Embarked         0\n",
       "dtype: int64"
      ]
     },
     "execution_count": 20,
     "metadata": {},
     "output_type": "execute_result"
    }
   ],
   "source": [
    "# итог \n",
    "path.isnull().sum()"
   ]
  },
  {
   "cell_type": "code",
   "execution_count": null,
   "id": "e36aca6f-d403-4f0e-a282-b621d6cb0687",
   "metadata": {},
   "outputs": [],
   "source": []
  }
 ],
 "metadata": {
  "kernelspec": {
   "display_name": "Python 3 (ipykernel)",
   "language": "python",
   "name": "python3"
  },
  "language_info": {
   "codemirror_mode": {
    "name": "ipython",
    "version": 3
   },
   "file_extension": ".py",
   "mimetype": "text/x-python",
   "name": "python",
   "nbconvert_exporter": "python",
   "pygments_lexer": "ipython3",
   "version": "3.10.11"
  }
 },
 "nbformat": 4,
 "nbformat_minor": 5
}
